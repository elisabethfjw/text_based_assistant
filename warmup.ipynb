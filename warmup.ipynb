{
 "cells": [
  {
   "cell_type": "markdown",
   "metadata": {},
   "source": [
    "WARMUP: Find the top 10 most frequent words in each dataset"
   ]
  },
  {
   "cell_type": "code",
   "execution_count": 9,
   "metadata": {},
   "outputs": [],
   "source": [
    "# dependencies\n",
    "import string\n",
    "from collections import Counter"
   ]
  },
  {
   "cell_type": "code",
   "execution_count": 10,
   "metadata": {},
   "outputs": [],
   "source": [
    "# Function to read text from a file and get the most frequent words (excluding punctuation)\n",
    "def get_most_frequent_words_from_file(file_path, top_n=10):\n",
    "    with open(file_path, 'r', encoding='utf-8') as file:\n",
    "        text = file.read()\n",
    "        # Remove punctuation\n",
    "        translator = str.maketrans('', '', string.punctuation)\n",
    "        text_without_punctuation = text.translate(translator)\n",
    "        \n",
    "        words = text_without_punctuation.split()\n",
    "        word_counter = Counter(words)\n",
    "        return word_counter.most_common(top_n)\n"
   ]
  },
  {
   "cell_type": "code",
   "execution_count": 11,
   "metadata": {},
   "outputs": [
    {
     "name": "stdout",
     "output_type": "stream",
     "text": [
      "\n",
      "Top 10 most frequent words in Swedish (Swedish-English pair):\n",
      "[('att', 9181), ('och', 7038), ('i', 5951), ('det', 5687), ('som', 5028), ('för', 4959), ('av', 4013), ('är', 3840), ('en', 3724), ('vi', 3211)]\n",
      "\n",
      "Top 10 most frequent words in English (Swedish-English pair):\n",
      "[('the', 19322), ('of', 9312), ('to', 8801), ('and', 6946), ('in', 6090), ('is', 4400), ('that', 4357), ('a', 4269), ('we', 3223), ('this', 3222)]\n",
      "\n",
      "Top 10 most frequent words in French (French-English pair):\n",
      "[('apos', 16729), ('de', 14520), ('la', 9746), ('et', 6619), ('l', 6536), ('le', 6174), ('les', 5585), ('à', 5500), ('des', 5232), ('que', 4797)]\n",
      "\n",
      "Top 10 most frequent words in English (French-English pair):\n",
      "[('the', 19621), ('of', 9497), ('to', 8982), ('and', 7210), ('in', 6158), ('is', 4453), ('that', 4421), ('a', 4386), ('we', 3341), ('this', 3332)]\n",
      "\n",
      "Top 10 most frequent words in German (German-English pair):\n",
      "[('die', 10521), ('der', 9374), ('und', 7028), ('in', 4175), ('zu', 3169), ('den', 2976), ('wir', 2863), ('daß', 2738), ('ich', 2670), ('das', 2669)]\n",
      "\n",
      "Top 10 most frequent words in English (German-English pair):\n",
      "[('the', 19847), ('of', 9597), ('to', 9059), ('and', 7303), ('in', 6237), ('is', 4478), ('that', 4441), ('a', 4435), ('we', 3372), ('this', 3362)]\n"
     ]
    }
   ],
   "source": [
    "# Define file paths\n",
    "file_paths = {\n",
    "    'Swedish (Swedish-English pair)': 'data/europarl-v7.sv-en.lc.sv',\n",
    "    'English (Swedish-English pair)': 'data/europarl-v7.sv-en.lc.en',\n",
    "    'French (French-English pair)': 'data/europarl-v7.fr-en.lc.fr',\n",
    "    'English (French-English pair)': 'data/europarl-v7.fr-en.lc.en',\n",
    "    'German (German-English pair)': 'data/europarl-v7.de-en.lc.de',\n",
    "    'English (German-English pair)': 'data/europarl-v7.de-en.lc.en',\n",
    "}\n",
    "\n",
    "# Iterate through file paths and print statements\n",
    "for key, file_path in file_paths.items():\n",
    "    print(f\"\\nTop 10 most frequent words in {key}:\")\n",
    "    print(get_most_frequent_words_from_file(file_path))"
   ]
  },
  {
   "cell_type": "code",
   "execution_count": 12,
   "metadata": {},
   "outputs": [],
   "source": [
    "def count_occurrences(file_path, target_word):\n",
    "    with open(file_path, 'r', encoding='utf-8') as file:\n",
    "        text = file.read().lower()  # Convert to lowercase to make the search case-insensitive\n",
    "        occurrences = text.count(target_word.lower())  # Count occurrences (case-insensitive)\n",
    "    return occurrences"
   ]
  },
  {
   "cell_type": "code",
   "execution_count": 13,
   "metadata": {},
   "outputs": [
    {
     "name": "stdout",
     "output_type": "stream",
     "text": [
      "\n",
      "The word speaker appears 33 times in the Swedish-English pair dataset.\n",
      "\n",
      "The word speaker appears 47 times in the French-English pair dataset.\n",
      "\n",
      "The word speaker appears 45 times in the German-English pair dataset.\n"
     ]
    }
   ],
   "source": [
    "# Define file paths\n",
    "file_paths = {\n",
    "    'Swedish-English pair': 'data/europarl-v7.sv-en.lc.en',\n",
    "    'French-English pair': 'data/europarl-v7.fr-en.lc.en',\n",
    "    'German-English pair': 'data/europarl-v7.de-en.lc.en'\n",
    "}\n",
    "\n",
    "# Iterate through file paths and print the count of the most frequent words inn each dataset\n",
    "for key, file_path in file_paths.items():\n",
    "    speaker_count = count_occurrences(file_path, 'speaker')\n",
    "    print(f'\\nThe word speaker appears {speaker_count} times in the {key} dataset.')"
   ]
  }
 ],
 "metadata": {
  "kernelspec": {
   "display_name": "Python 3",
   "language": "python",
   "name": "python3"
  },
  "language_info": {
   "codemirror_mode": {
    "name": "ipython",
    "version": 3
   },
   "file_extension": ".py",
   "mimetype": "text/x-python",
   "name": "python",
   "nbconvert_exporter": "python",
   "pygments_lexer": "ipython3",
   "version": "3.9.6"
  }
 },
 "nbformat": 4,
 "nbformat_minor": 2
}
